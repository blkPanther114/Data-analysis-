{
 "cells": [
  {
   "cell_type": "markdown",
   "metadata": {
    "id": "E3K0BWJ94cSb"
   },
   "source": [
    "This dataset is taken from https://www.kaggle.com/datasets/sootersaalu/amazon-top-50-bestselling-books-2009-2019, which is realeased under CC0:Public Domain"
   ]
  },
  {
   "cell_type": "markdown",
   "metadata": {
    "id": "zo_gMFIz4cSf"
   },
   "source": [
    "![Amazon.jpg](attachment:Amazon.jpg)"
   ]
  },
  {
   "cell_type": "markdown",
   "metadata": {
    "id": "CfFPtfeg4cSg"
   },
   "source": [
    "Dataset on Amazon's Top 50 bestselling books from 2009 to 2019. Contains 550 books, data has been categorized into fiction and non-fiction using Goodreads\n",
    "- Name\n",
    "- Author\n",
    "- User Rating\n",
    "- Reviews\n",
    "- Price\n",
    "- Year\n",
    "- Genre"
   ]
  },
  {
   "cell_type": "code",
   "execution_count": 1,
   "metadata": {
    "executionInfo": {
     "elapsed": 392,
     "status": "ok",
     "timestamp": 1655205358976,
     "user": {
      "displayName": "Alastair Brown",
      "userId": "04707479692243359168"
     },
     "user_tz": -60
    },
    "id": "TBIARFXY4cSh"
   },
   "outputs": [],
   "source": [
    "import pandas as pd\n",
    "import numpy as np\n",
    "import matplotlib.pyplot as plt\n",
    "import seaborn as sns"
   ]
  },
  {
   "cell_type": "code",
   "execution_count": 3,
   "metadata": {
    "colab": {
     "base_uri": "https://localhost:8080/",
     "height": 311
    },
    "executionInfo": {
     "elapsed": 508,
     "status": "error",
     "timestamp": 1655205443195,
     "user": {
      "displayName": "Alastair Brown",
      "userId": "04707479692243359168"
     },
     "user_tz": -60
    },
    "id": "gT60QhX_4cSi",
    "outputId": "0453cb36-66bb-429f-f6c7-e2f51b2f649c"
   },
   "outputs": [
    {
     "data": {
      "text/html": [
       "<div>\n",
       "<style scoped>\n",
       "    .dataframe tbody tr th:only-of-type {\n",
       "        vertical-align: middle;\n",
       "    }\n",
       "\n",
       "    .dataframe tbody tr th {\n",
       "        vertical-align: top;\n",
       "    }\n",
       "\n",
       "    .dataframe thead th {\n",
       "        text-align: right;\n",
       "    }\n",
       "</style>\n",
       "<table border=\"1\" class=\"dataframe\">\n",
       "  <thead>\n",
       "    <tr style=\"text-align: right;\">\n",
       "      <th></th>\n",
       "      <th>Rank</th>\n",
       "      <th>City</th>\n",
       "      <th>Cost of Living Index</th>\n",
       "      <th>Rent Index</th>\n",
       "      <th>Cost of Living Plus Rent Index</th>\n",
       "      <th>Groceries Index</th>\n",
       "      <th>Restaurant Price Index</th>\n",
       "      <th>Local Purchasing Power Index</th>\n",
       "    </tr>\n",
       "  </thead>\n",
       "  <tbody>\n",
       "    <tr>\n",
       "      <th>0</th>\n",
       "      <td>NaN</td>\n",
       "      <td>Hamilton, Bermuda</td>\n",
       "      <td>149.02</td>\n",
       "      <td>96.10</td>\n",
       "      <td>124.22</td>\n",
       "      <td>157.89</td>\n",
       "      <td>155.22</td>\n",
       "      <td>79.43</td>\n",
       "    </tr>\n",
       "    <tr>\n",
       "      <th>1</th>\n",
       "      <td>NaN</td>\n",
       "      <td>Zurich, Switzerland</td>\n",
       "      <td>131.24</td>\n",
       "      <td>69.26</td>\n",
       "      <td>102.19</td>\n",
       "      <td>136.14</td>\n",
       "      <td>132.52</td>\n",
       "      <td>129.79</td>\n",
       "    </tr>\n",
       "    <tr>\n",
       "      <th>2</th>\n",
       "      <td>NaN</td>\n",
       "      <td>Basel, Switzerland</td>\n",
       "      <td>130.93</td>\n",
       "      <td>49.38</td>\n",
       "      <td>92.70</td>\n",
       "      <td>137.07</td>\n",
       "      <td>130.95</td>\n",
       "      <td>111.53</td>\n",
       "    </tr>\n",
       "    <tr>\n",
       "      <th>3</th>\n",
       "      <td>NaN</td>\n",
       "      <td>Zug, Switzerland</td>\n",
       "      <td>128.13</td>\n",
       "      <td>72.12</td>\n",
       "      <td>101.87</td>\n",
       "      <td>132.61</td>\n",
       "      <td>130.93</td>\n",
       "      <td>143.40</td>\n",
       "    </tr>\n",
       "    <tr>\n",
       "      <th>4</th>\n",
       "      <td>NaN</td>\n",
       "      <td>Lugano, Switzerland</td>\n",
       "      <td>123.99</td>\n",
       "      <td>44.99</td>\n",
       "      <td>86.96</td>\n",
       "      <td>129.17</td>\n",
       "      <td>119.80</td>\n",
       "      <td>111.96</td>\n",
       "    </tr>\n",
       "    <tr>\n",
       "      <th>...</th>\n",
       "      <td>...</td>\n",
       "      <td>...</td>\n",
       "      <td>...</td>\n",
       "      <td>...</td>\n",
       "      <td>...</td>\n",
       "      <td>...</td>\n",
       "      <td>...</td>\n",
       "      <td>...</td>\n",
       "    </tr>\n",
       "    <tr>\n",
       "      <th>573</th>\n",
       "      <td>NaN</td>\n",
       "      <td>Kanpur, India</td>\n",
       "      <td>20.79</td>\n",
       "      <td>3.60</td>\n",
       "      <td>12.73</td>\n",
       "      <td>22.19</td>\n",
       "      <td>13.31</td>\n",
       "      <td>38.83</td>\n",
       "    </tr>\n",
       "    <tr>\n",
       "      <th>574</th>\n",
       "      <td>NaN</td>\n",
       "      <td>Karachi, Pakistan</td>\n",
       "      <td>20.75</td>\n",
       "      <td>4.84</td>\n",
       "      <td>13.29</td>\n",
       "      <td>18.48</td>\n",
       "      <td>15.21</td>\n",
       "      <td>29.16</td>\n",
       "    </tr>\n",
       "    <tr>\n",
       "      <th>575</th>\n",
       "      <td>NaN</td>\n",
       "      <td>Rawalpindi, Pakistan</td>\n",
       "      <td>20.52</td>\n",
       "      <td>4.78</td>\n",
       "      <td>13.14</td>\n",
       "      <td>18.51</td>\n",
       "      <td>16.18</td>\n",
       "      <td>22.91</td>\n",
       "    </tr>\n",
       "    <tr>\n",
       "      <th>576</th>\n",
       "      <td>NaN</td>\n",
       "      <td>Multan, Pakistan</td>\n",
       "      <td>18.68</td>\n",
       "      <td>2.94</td>\n",
       "      <td>11.30</td>\n",
       "      <td>18.37</td>\n",
       "      <td>11.80</td>\n",
       "      <td>25.09</td>\n",
       "    </tr>\n",
       "    <tr>\n",
       "      <th>577</th>\n",
       "      <td>NaN</td>\n",
       "      <td>Peshawar, Pakistan</td>\n",
       "      <td>18.55</td>\n",
       "      <td>2.37</td>\n",
       "      <td>10.97</td>\n",
       "      <td>16.62</td>\n",
       "      <td>14.39</td>\n",
       "      <td>26.00</td>\n",
       "    </tr>\n",
       "  </tbody>\n",
       "</table>\n",
       "<p>578 rows × 8 columns</p>\n",
       "</div>"
      ],
      "text/plain": [
       "     Rank                  City  Cost of Living Index  Rent Index  \\\n",
       "0     NaN     Hamilton, Bermuda                149.02       96.10   \n",
       "1     NaN   Zurich, Switzerland                131.24       69.26   \n",
       "2     NaN    Basel, Switzerland                130.93       49.38   \n",
       "3     NaN      Zug, Switzerland                128.13       72.12   \n",
       "4     NaN   Lugano, Switzerland                123.99       44.99   \n",
       "..    ...                   ...                   ...         ...   \n",
       "573   NaN         Kanpur, India                 20.79        3.60   \n",
       "574   NaN     Karachi, Pakistan                 20.75        4.84   \n",
       "575   NaN  Rawalpindi, Pakistan                 20.52        4.78   \n",
       "576   NaN      Multan, Pakistan                 18.68        2.94   \n",
       "577   NaN    Peshawar, Pakistan                 18.55        2.37   \n",
       "\n",
       "     Cost of Living Plus Rent Index  Groceries Index  Restaurant Price Index  \\\n",
       "0                            124.22           157.89                  155.22   \n",
       "1                            102.19           136.14                  132.52   \n",
       "2                             92.70           137.07                  130.95   \n",
       "3                            101.87           132.61                  130.93   \n",
       "4                             86.96           129.17                  119.80   \n",
       "..                              ...              ...                     ...   \n",
       "573                           12.73            22.19                   13.31   \n",
       "574                           13.29            18.48                   15.21   \n",
       "575                           13.14            18.51                   16.18   \n",
       "576                           11.30            18.37                   11.80   \n",
       "577                           10.97            16.62                   14.39   \n",
       "\n",
       "     Local Purchasing Power Index  \n",
       "0                           79.43  \n",
       "1                          129.79  \n",
       "2                          111.53  \n",
       "3                          143.40  \n",
       "4                          111.96  \n",
       "..                            ...  \n",
       "573                         38.83  \n",
       "574                         29.16  \n",
       "575                         22.91  \n",
       "576                         25.09  \n",
       "577                         26.00  \n",
       "\n",
       "[578 rows x 8 columns]"
      ]
     },
     "execution_count": 3,
     "metadata": {},
     "output_type": "execute_result"
    }
   ],
   "source": [
    "import pandas as pd\n",
    "books = pd.read_csv(\"costofliving.csv\")\n",
    "books = pd.read_csv(\"C:/Users/Effie/Downloads/costofliving.csv\")\n",
    "books"
   ]
  },
  {
   "cell_type": "code",
   "execution_count": null,
   "metadata": {
    "colab": {
     "base_uri": "https://localhost:8080/",
     "height": 165
    },
    "executionInfo": {
     "elapsed": 845,
     "status": "error",
     "timestamp": 1655204620633,
     "user": {
      "displayName": "Alastair Brown",
      "userId": "04707479692243359168"
     },
     "user_tz": -60
    },
    "id": "bVElDrLW4cSi",
    "outputId": "d8b534f9-cd4a-4146-9288-357749685477"
   },
   "outputs": [],
   "source": [
    "books.head()"
   ]
  },
  {
   "cell_type": "markdown",
   "metadata": {
    "id": "JbUTtHs44cSj"
   },
   "source": [
    "Identify the features that are categorical\n",
    "- Name , Author and Genre are categorical features in our dataset\n",
    "\n",
    "Numerical features\n",
    "- Rating, Review, Price, Year"
   ]
  },
  {
   "cell_type": "code",
   "execution_count": null,
   "metadata": {
    "colab": {
     "base_uri": "https://localhost:8080/",
     "height": 165
    },
    "executionInfo": {
     "elapsed": 8,
     "status": "error",
     "timestamp": 1655205196494,
     "user": {
      "displayName": "Alastair Brown",
      "userId": "04707479692243359168"
     },
     "user_tz": -60
    },
    "id": "xXs5EIAh4cSk",
    "outputId": "17c6290f-e6b8-4c9e-feef-73df0388fcaf"
   },
   "outputs": [],
   "source": [
    "books.shape"
   ]
  },
  {
   "cell_type": "markdown",
   "metadata": {
    "id": "4t8-kZVR4cSk"
   },
   "source": [
    "There are 550 rows and 7 columns in our dataset"
   ]
  },
  {
   "cell_type": "code",
   "execution_count": null,
   "metadata": {
    "colab": {
     "base_uri": "https://localhost:8080/",
     "height": 165
    },
    "executionInfo": {
     "elapsed": 6,
     "status": "error",
     "timestamp": 1655205196496,
     "user": {
      "displayName": "Alastair Brown",
      "userId": "04707479692243359168"
     },
     "user_tz": -60
    },
    "id": "NOPJmSkY4cSl",
    "outputId": "dc45a8a4-94ed-4311-e1a9-d5610965b7e8"
   },
   "outputs": [],
   "source": [
    "books.dtypes"
   ]
  },
  {
   "cell_type": "markdown",
   "metadata": {
    "id": "tBW2lRF24cSm"
   },
   "source": [
    "Name , Author and Genre are objects where as Reviews, Price, Year are integars and User Rating is float "
   ]
  },
  {
   "cell_type": "code",
   "execution_count": null,
   "metadata": {
    "id": "purXVRFV4cSm",
    "outputId": "a7af07a1-b0f9-4e4c-ca16-4a14611846c2"
   },
   "outputs": [],
   "source": [
    "books.describe()"
   ]
  },
  {
   "cell_type": "code",
   "execution_count": null,
   "metadata": {
    "id": "_nbHGqnL4cSm",
    "outputId": "898ce45b-8780-4c87-85e0-300cb694979d"
   },
   "outputs": [],
   "source": [
    "books.describe(include = ['O'])"
   ]
  },
  {
   "cell_type": "markdown",
   "metadata": {
    "id": "7llbEsHC4cSn"
   },
   "source": [
    "There are 550 records of books in our dataset, out of which 351 are unique. Similary, there are 550 Authors and 248 of them are unique. This show we have duplicates in pur dataset"
   ]
  },
  {
   "cell_type": "code",
   "execution_count": null,
   "metadata": {
    "id": "oSPN7h2n4cSn",
    "outputId": "af9d96e6-1384-4fcf-c8df-b08deccb8a7b"
   },
   "outputs": [],
   "source": [
    "books.info()"
   ]
  },
  {
   "cell_type": "code",
   "execution_count": null,
   "metadata": {
    "id": "9oH7izEA4cSo",
    "outputId": "0d721043-4fb3-43a0-e440-ac914aca4042"
   },
   "outputs": [],
   "source": [
    "books.isnull().sum()"
   ]
  },
  {
   "cell_type": "markdown",
   "metadata": {
    "id": "1PjRSPvp4cSo"
   },
   "source": [
    "There are no null values in out dataset"
   ]
  },
  {
   "cell_type": "code",
   "execution_count": null,
   "metadata": {
    "id": "wQHKiF1G4cSo",
    "outputId": "5e2aaee1-f227-4b7d-c30f-cd4cbfd3cfb8"
   },
   "outputs": [],
   "source": [
    "duplicatedbooks = books[books.duplicated()]\n",
    "print(duplicatedbooks)"
   ]
  },
  {
   "cell_type": "code",
   "execution_count": null,
   "metadata": {
    "id": "9Ol2EN0H4cSp",
    "outputId": "2f644e6c-2875-4a62-c274-41f456291365"
   },
   "outputs": [],
   "source": [
    "duplicatedbooks = books[books[['Name','Author']].duplicated()]\n",
    "print(duplicatedbooks)"
   ]
  },
  {
   "cell_type": "markdown",
   "metadata": {
    "id": "EG3XdL6s4cSp"
   },
   "source": [
    "We do have duplicates in Name and Author columns but the year for each row is different. This means the same book was bestseller multiple times, thus we cannot remove these duplicates"
   ]
  },
  {
   "cell_type": "code",
   "execution_count": null,
   "metadata": {
    "id": "M9KSc-ud4cSp",
    "outputId": "c0462021-e8d0-4123-92c5-3168700a85ca"
   },
   "outputs": [],
   "source": [
    "books.nunique()"
   ]
  },
  {
   "cell_type": "code",
   "execution_count": null,
   "metadata": {
    "id": "S4gE3gV04cSq",
    "outputId": "db82b27b-bbab-4634-c208-dc51fda7a279"
   },
   "outputs": [],
   "source": [
    "books['Year'].value_counts()"
   ]
  },
  {
   "cell_type": "code",
   "execution_count": 5,
   "metadata": {
    "id": "5sNZnSZm4cSq",
    "outputId": "3e08ba1d-bec8-4afd-89de-f15f36831010"
   },
   "outputs": [
    {
     "data": {
      "text/plain": [
       "(5.0, 0.0)"
      ]
     },
     "execution_count": 5,
     "metadata": {},
     "output_type": "execute_result"
    },
    {
     "data": {
      "image/png": "[encoded data removed]",
      "text/plain": [
       "<Figure size 1800x792 with 2 Axes>"
      ]
     },
     "metadata": {
      "needs_background": "light"
     },
     "output_type": "display_data"
    }
   ],
   "source": [
    "import seaborn as sns\n",
    "import matplotlib.pyplot as plt\n",
    "plt.figure(figsize=(25,11))\n",
    "ax = sns.heatmap(books.corr(), vmax=0.8, square=True, annot_kws={'size':10}, annot=True)\n",
    "ax.get_ylim()\n",
    "(5.5, 0.5)\n",
    "ax.set_ylim(5.0, 0) "
   ]
  },
  {
   "cell_type": "code",
   "execution_count": 6,
   "metadata": {
    "id": "p3Y0Y8bM4cSr",
    "outputId": "438b10e2-5428-40dc-a94f-1114acb2106e"
   },
   "outputs": [
    {
     "ename": "KeyError",
     "evalue": "'Genre'",
     "output_type": "error",
     "traceback": [
      "\u001b[1;31m---------------------------------------------------------------------------\u001b[0m",
      "\u001b[1;31mKeyError\u001b[0m                                  Traceback (most recent call last)",
      "File \u001b[1;32m~\\anaconda3\\lib\\site-packages\\pandas\\core\\indexes\\base.py:3621\u001b[0m, in \u001b[0;36mIndex.get_loc\u001b[1;34m(self, key, method, tolerance)\u001b[0m\n\u001b[0;32m   3620\u001b[0m \u001b[38;5;28;01mtry\u001b[39;00m:\n\u001b[1;32m-> 3621\u001b[0m     \u001b[38;5;28;01mreturn\u001b[39;00m \u001b[38;5;28;43mself\u001b[39;49m\u001b[38;5;241;43m.\u001b[39;49m\u001b[43m_engine\u001b[49m\u001b[38;5;241;43m.\u001b[39;49m\u001b[43mget_loc\u001b[49m\u001b[43m(\u001b[49m\u001b[43mcasted_key\u001b[49m\u001b[43m)\u001b[49m\n\u001b[0;32m   3622\u001b[0m \u001b[38;5;28;01mexcept\u001b[39;00m \u001b[38;5;167;01mKeyError\u001b[39;00m \u001b[38;5;28;01mas\u001b[39;00m err:\n",
      "File \u001b[1;32m~\\anaconda3\\lib\\site-packages\\pandas\\_libs\\index.pyx:136\u001b[0m, in \u001b[0;36mpandas._libs.index.IndexEngine.get_loc\u001b[1;34m()\u001b[0m\n",
      "File \u001b[1;32m~\\anaconda3\\lib\\site-packages\\pandas\\_libs\\index.pyx:163\u001b[0m, in \u001b[0;36mpandas._libs.index.IndexEngine.get_loc\u001b[1;34m()\u001b[0m\n",
      "File \u001b[1;32mpandas\\_libs\\hashtable_class_helper.pxi:5198\u001b[0m, in \u001b[0;36mpandas._libs.hashtable.PyObjectHashTable.get_item\u001b[1;34m()\u001b[0m\n",
      "File \u001b[1;32mpandas\\_libs\\hashtable_class_helper.pxi:5206\u001b[0m, in \u001b[0;36mpandas._libs.hashtable.PyObjectHashTable.get_item\u001b[1;34m()\u001b[0m\n",
      "\u001b[1;31mKeyError\u001b[0m: 'Genre'",
      "\nThe above exception was the direct cause of the following exception:\n",
      "\u001b[1;31mKeyError\u001b[0m                                  Traceback (most recent call last)",
      "Input \u001b[1;32mIn [6]\u001b[0m, in \u001b[0;36m<cell line: 2>\u001b[1;34m()\u001b[0m\n\u001b[0;32m      1\u001b[0m \u001b[38;5;66;03m#Fiction vs Non-fiction books\u001b[39;00m\n\u001b[1;32m----> 2\u001b[0m fiction \u001b[38;5;241m=\u001b[39m \u001b[38;5;28mlen\u001b[39m(books[\u001b[43mbooks\u001b[49m\u001b[43m[\u001b[49m\u001b[38;5;124;43m'\u001b[39;49m\u001b[38;5;124;43mGenre\u001b[39;49m\u001b[38;5;124;43m'\u001b[39;49m\u001b[43m]\u001b[49m \u001b[38;5;241m==\u001b[39m \u001b[38;5;124m'\u001b[39m\u001b[38;5;124mFiction\u001b[39m\u001b[38;5;124m'\u001b[39m])\n\u001b[0;32m      3\u001b[0m non_fiction \u001b[38;5;241m=\u001b[39m \u001b[38;5;28mlen\u001b[39m(books[books[\u001b[38;5;124m'\u001b[39m\u001b[38;5;124mGenre\u001b[39m\u001b[38;5;124m'\u001b[39m] \u001b[38;5;241m==\u001b[39m \u001b[38;5;124m'\u001b[39m\u001b[38;5;124mNon Fiction\u001b[39m\u001b[38;5;124m'\u001b[39m])\n\u001b[0;32m      4\u001b[0m \u001b[38;5;28mprint\u001b[39m(\u001b[38;5;124m'\u001b[39m\u001b[38;5;124mThe number of best seller fiction books are :  \u001b[39m\u001b[38;5;132;01m%i\u001b[39;00m\u001b[38;5;124m (\u001b[39m\u001b[38;5;132;01m%.1f\u001b[39;00m\u001b[38;5;132;01m%%\u001b[39;00m\u001b[38;5;124m)\u001b[39m\u001b[38;5;124m'\u001b[39m\u001b[38;5;241m%\u001b[39m (fiction, (fiction)\u001b[38;5;241m/\u001b[39m\u001b[38;5;28mlen\u001b[39m(books)\u001b[38;5;241m*\u001b[39m\u001b[38;5;241m100\u001b[39m ))\n",
      "File \u001b[1;32m~\\anaconda3\\lib\\site-packages\\pandas\\core\\frame.py:3505\u001b[0m, in \u001b[0;36mDataFrame.__getitem__\u001b[1;34m(self, key)\u001b[0m\n\u001b[0;32m   3503\u001b[0m \u001b[38;5;28;01mif\u001b[39;00m \u001b[38;5;28mself\u001b[39m\u001b[38;5;241m.\u001b[39mcolumns\u001b[38;5;241m.\u001b[39mnlevels \u001b[38;5;241m>\u001b[39m \u001b[38;5;241m1\u001b[39m:\n\u001b[0;32m   3504\u001b[0m     \u001b[38;5;28;01mreturn\u001b[39;00m \u001b[38;5;28mself\u001b[39m\u001b[38;5;241m.\u001b[39m_getitem_multilevel(key)\n\u001b[1;32m-> 3505\u001b[0m indexer \u001b[38;5;241m=\u001b[39m \u001b[38;5;28;43mself\u001b[39;49m\u001b[38;5;241;43m.\u001b[39;49m\u001b[43mcolumns\u001b[49m\u001b[38;5;241;43m.\u001b[39;49m\u001b[43mget_loc\u001b[49m\u001b[43m(\u001b[49m\u001b[43mkey\u001b[49m\u001b[43m)\u001b[49m\n\u001b[0;32m   3506\u001b[0m \u001b[38;5;28;01mif\u001b[39;00m is_integer(indexer):\n\u001b[0;32m   3507\u001b[0m     indexer \u001b[38;5;241m=\u001b[39m [indexer]\n",
      "File \u001b[1;32m~\\anaconda3\\lib\\site-packages\\pandas\\core\\indexes\\base.py:3623\u001b[0m, in \u001b[0;36mIndex.get_loc\u001b[1;34m(self, key, method, tolerance)\u001b[0m\n\u001b[0;32m   3621\u001b[0m     \u001b[38;5;28;01mreturn\u001b[39;00m \u001b[38;5;28mself\u001b[39m\u001b[38;5;241m.\u001b[39m_engine\u001b[38;5;241m.\u001b[39mget_loc(casted_key)\n\u001b[0;32m   3622\u001b[0m \u001b[38;5;28;01mexcept\u001b[39;00m \u001b[38;5;167;01mKeyError\u001b[39;00m \u001b[38;5;28;01mas\u001b[39;00m err:\n\u001b[1;32m-> 3623\u001b[0m     \u001b[38;5;28;01mraise\u001b[39;00m \u001b[38;5;167;01mKeyError\u001b[39;00m(key) \u001b[38;5;28;01mfrom\u001b[39;00m \u001b[38;5;21;01merr\u001b[39;00m\n\u001b[0;32m   3624\u001b[0m \u001b[38;5;28;01mexcept\u001b[39;00m \u001b[38;5;167;01mTypeError\u001b[39;00m:\n\u001b[0;32m   3625\u001b[0m     \u001b[38;5;66;03m# If we have a listlike key, _check_indexing_error will raise\u001b[39;00m\n\u001b[0;32m   3626\u001b[0m     \u001b[38;5;66;03m#  InvalidIndexError. Otherwise we fall through and re-raise\u001b[39;00m\n\u001b[0;32m   3627\u001b[0m     \u001b[38;5;66;03m#  the TypeError.\u001b[39;00m\n\u001b[0;32m   3628\u001b[0m     \u001b[38;5;28mself\u001b[39m\u001b[38;5;241m.\u001b[39m_check_indexing_error(key)\n",
      "\u001b[1;31mKeyError\u001b[0m: 'Genre'"
     ]
    }
   ],
   "source": [
    "#Fiction vs Non-fiction books\n",
    "fiction = len(books[books['Genre'] == 'Fiction'])\n",
    "non_fiction = len(books[books['Genre'] == 'Non Fiction'])\n",
    "print('The number of best seller fiction books are :  %i (%.1f%%)'% (fiction, (fiction)/len(books)*100 ))\n",
    "print('The number of best seller non-fiction books are: %i (%.1f%%)'% (non_fiction,(non_fiction)/len(books)*100 ) )"
   ]
  },
  {
   "cell_type": "markdown",
   "metadata": {
    "id": "yiF06KSJ4cSr"
   },
   "source": [
    "It is evident that non-fiction books are more popular as compared to fictional books"
   ]
  },
  {
   "cell_type": "code",
   "execution_count": null,
   "metadata": {
    "id": "3CTFOvZ04cSr",
    "outputId": "2b460762-c0d9-43f9-92c9-7ffd078cf048"
   },
   "outputs": [],
   "source": [
    "#Pie-chart\n",
    "value = books['Genre'].value_counts()\n",
    "my_colors = ['darkorange', 'dimgrey']\n",
    "my_explode = (0, 0.1, 0)\n",
    "fig1, ax1 = plt.subplots(figsize=(10, 6))\n",
    "ax1.pie(value.values,labels=value.index,autopct='%1.1f%%', colors=my_colors)\n",
    "plt.title('Genre Comparison')\n",
    "plt.show()"
   ]
  },
  {
   "cell_type": "code",
   "execution_count": null,
   "metadata": {
    "id": "Mz4LqgQE4cSs",
    "outputId": "eaca3797-5edb-4e99-8d44-c8f294d549e2"
   },
   "outputs": [],
   "source": [
    "plt.figure(figsize = (10,8))\n",
    "plt.scatter(books['User Rating'],books['Reviews'], label = \"User Rating\")\n",
    "plt.xlabel(\"User Ratings\")\n",
    "plt.ylabel(\"Reviews\")\n",
    "plt.title(\"The Relationship Between User ratings and Reviews\")\n",
    "plt.show()"
   ]
  },
  {
   "cell_type": "code",
   "execution_count": null,
   "metadata": {
    "id": "BJX7sKE84cSs",
    "outputId": "8d390902-50cd-49f3-d6cd-17f1ba2a9ecf"
   },
   "outputs": [],
   "source": [
    "#Top 5 Authors with most reviews\n",
    "book=books.groupby('Author')['Reviews'].agg([sum]).sort_values(by=('sum'),ascending=False).reset_index().head(5)\n",
    "\n",
    "fig1, ax1 = plt.subplots(figsize=(10, 6))\n",
    "ax1.set_facecolor('dimgrey')\n",
    "ax1.bar(book['Author'],book['sum'],color='darkorange')\n",
    "plt.title('Top 5 Authors with most reviews')\n",
    "plt.xlabel(\"Authors\")\n",
    "plt.ylabel(\"Reviews\")\n",
    "plt.show()"
   ]
  },
  {
   "cell_type": "markdown",
   "metadata": {
    "id": "yk8u0IcA4cSs"
   },
   "source": [
    "The above graph shows Suzanne Collins, John Green are the top 2 authors who has got the most reviews"
   ]
  },
  {
   "cell_type": "code",
   "execution_count": null,
   "metadata": {
    "id": "mNSTh_tL4cSs",
    "outputId": "c27188b8-e56e-417f-ff4c-6f2f95f3d0ff"
   },
   "outputs": [],
   "source": [
    "#Top 5 Authors with highest ratings (on average)\n",
    "book=books.groupby('Author')['User Rating'].agg(['mean']).sort_values(by=('mean'),ascending=False).reset_index().head(5)\n",
    "\n",
    "fig1, ax1 = plt.subplots(figsize=(10, 6))\n",
    "ax1.set_facecolor('dimgrey')\n",
    "ax1.bar(book['Author'],book['mean'],color='darkorange')\n",
    "plt.title('Top 5 Authors with highest User Ratings')\n",
    "plt.xlabel(\"Authors\")\n",
    "plt.ylabel(\"Ratings\")\n",
    "plt.show()"
   ]
  },
  {
   "cell_type": "markdown",
   "metadata": {
    "id": "CLErrtZL4cSt"
   },
   "source": [
    "The above graph shows Top 5 Authors with respect to highest ratings "
   ]
  },
  {
   "cell_type": "code",
   "execution_count": null,
   "metadata": {
    "id": "O3jRQpdD4cSt",
    "outputId": "a24ac0f9-9e93-4487-e032-86187d04db3f"
   },
   "outputs": [],
   "source": [
    "#Bottom 5 Authors with least reviews\n",
    "book=books.groupby('Author')['Reviews'].agg([sum]).sort_values(by=('sum'),ascending=True).reset_index().head(5)\n",
    "\n",
    "fig1, ax1 = plt.subplots(figsize=(10, 6))\n",
    "ax1.set_facecolor('dimgrey')\n",
    "ax1.bar(book['Author'],book['sum'],color='darkorange')\n",
    "plt.title('Bottom 5 Authors with least reviews')\n",
    "plt.xlabel(\"Authors\")\n",
    "plt.ylabel(\"Ratings\")\n",
    "plt.show()"
   ]
  },
  {
   "cell_type": "code",
   "execution_count": null,
   "metadata": {
    "id": "4pp2jz3U4cSt",
    "outputId": "a78b9e96-8e57-4756-e3f7-b31e1cd4a6ed"
   },
   "outputs": [],
   "source": [
    "#Top 5 Authors with highest ratings (on average)\n",
    "book=books.groupby('Author')['User Rating'].agg(['mean']).sort_values(by=('mean'),ascending=True).reset_index().head(5)\n",
    "\n",
    "fig1, ax1 = plt.subplots(figsize=(10, 6))\n",
    "ax1.set_facecolor('dimgrey')\n",
    "ax1.bar(book['Author'],book['mean'],color='darkorange')\n",
    "plt.title('Bottom 5 Authors with lowest ratings')\n",
    "plt.xlabel(\"Authors\")\n",
    "plt.ylabel(\"Ratings\")\n",
    "plt.show()"
   ]
  },
  {
   "cell_type": "markdown",
   "metadata": {
    "id": "hdIlOEhL4cSt"
   },
   "source": [
    "Here, we see an interesting fact. Gillian Flynn is in the top 5 authors with the most reviews, however in terms of ratings he lies in the bottom 5"
   ]
  },
  {
   "cell_type": "code",
   "execution_count": null,
   "metadata": {
    "id": "I9kzgGut4cSt",
    "outputId": "2669c49b-a13b-4534-f5fb-1f5434403158"
   },
   "outputs": [],
   "source": [
    "book_author = books['Author'].value_counts().reset_index().head(10)\n",
    "print(book_author)"
   ]
  },
  {
   "cell_type": "code",
   "execution_count": null,
   "metadata": {
    "id": "lb7jAdze4cSt",
    "outputId": "97b683bd-9730-4660-c5dd-41126c6b9d47"
   },
   "outputs": [],
   "source": [
    "fig1, ax1 = plt.subplots(figsize=(10, 6))\n",
    "ax1.set_facecolor('dimgrey')\n",
    "ax1.barh(book_author['index'],book_author['Author'],color='darkorange')\n",
    "plt.title('Best seller Authors')\n",
    "plt.show()"
   ]
  },
  {
   "cell_type": "markdown",
   "metadata": {
    "id": "gTtQ2Kiy4cSu"
   },
   "source": [
    "Jeff Kinney is the best selling author with 12 best selling books in his record"
   ]
  },
  {
   "cell_type": "code",
   "execution_count": 4,
   "metadata": {
    "id": "1aHW8Xdd4cSu",
    "outputId": "548cc756-ec9d-484a-c32a-1a5bcd5f7b4e"
   },
   "outputs": [
    {
     "ename": "KeyError",
     "evalue": "'Author'",
     "output_type": "error",
     "traceback": [
      "\u001b[1;31m---------------------------------------------------------------------------\u001b[0m",
      "\u001b[1;31mKeyError\u001b[0m                                  Traceback (most recent call last)",
      "File \u001b[1;32m~\\anaconda3\\lib\\site-packages\\pandas\\core\\indexes\\base.py:3621\u001b[0m, in \u001b[0;36mIndex.get_loc\u001b[1;34m(self, key, method, tolerance)\u001b[0m\n\u001b[0;32m   3620\u001b[0m \u001b[38;5;28;01mtry\u001b[39;00m:\n\u001b[1;32m-> 3621\u001b[0m     \u001b[38;5;28;01mreturn\u001b[39;00m \u001b[38;5;28;43mself\u001b[39;49m\u001b[38;5;241;43m.\u001b[39;49m\u001b[43m_engine\u001b[49m\u001b[38;5;241;43m.\u001b[39;49m\u001b[43mget_loc\u001b[49m\u001b[43m(\u001b[49m\u001b[43mcasted_key\u001b[49m\u001b[43m)\u001b[49m\n\u001b[0;32m   3622\u001b[0m \u001b[38;5;28;01mexcept\u001b[39;00m \u001b[38;5;167;01mKeyError\u001b[39;00m \u001b[38;5;28;01mas\u001b[39;00m err:\n",
      "File \u001b[1;32m~\\anaconda3\\lib\\site-packages\\pandas\\_libs\\index.pyx:136\u001b[0m, in \u001b[0;36mpandas._libs.index.IndexEngine.get_loc\u001b[1;34m()\u001b[0m\n",
      "File \u001b[1;32m~\\anaconda3\\lib\\site-packages\\pandas\\_libs\\index.pyx:163\u001b[0m, in \u001b[0;36mpandas._libs.index.IndexEngine.get_loc\u001b[1;34m()\u001b[0m\n",
      "File \u001b[1;32mpandas\\_libs\\hashtable_class_helper.pxi:5198\u001b[0m, in \u001b[0;36mpandas._libs.hashtable.PyObjectHashTable.get_item\u001b[1;34m()\u001b[0m\n",
      "File \u001b[1;32mpandas\\_libs\\hashtable_class_helper.pxi:5206\u001b[0m, in \u001b[0;36mpandas._libs.hashtable.PyObjectHashTable.get_item\u001b[1;34m()\u001b[0m\n",
      "\u001b[1;31mKeyError\u001b[0m: 'Author'",
      "\nThe above exception was the direct cause of the following exception:\n",
      "\u001b[1;31mKeyError\u001b[0m                                  Traceback (most recent call last)",
      "Input \u001b[1;32mIn [4]\u001b[0m, in \u001b[0;36m<cell line: 1>\u001b[1;34m()\u001b[0m\n\u001b[1;32m----> 1\u001b[0m Jeff_Kinney \u001b[38;5;241m=\u001b[39m books[\u001b[43mbooks\u001b[49m\u001b[43m[\u001b[49m\u001b[38;5;124;43m\"\u001b[39;49m\u001b[38;5;124;43mAuthor\u001b[39;49m\u001b[38;5;124;43m\"\u001b[39;49m\u001b[43m]\u001b[49m\u001b[38;5;241m.\u001b[39misin([\u001b[38;5;124m\"\u001b[39m\u001b[38;5;124mJeff Kinney\u001b[39m\u001b[38;5;124m\"\u001b[39m]) ]\n\u001b[0;32m      2\u001b[0m Jeff_Kinney \u001b[38;5;241m=\u001b[39m Jeff_Kinney\u001b[38;5;241m.\u001b[39msort_values(by\u001b[38;5;241m=\u001b[39m\u001b[38;5;124m\"\u001b[39m\u001b[38;5;124mYear\u001b[39m\u001b[38;5;124m\"\u001b[39m)\n\u001b[0;32m      4\u001b[0m fig, ax1 \u001b[38;5;241m=\u001b[39m plt\u001b[38;5;241m.\u001b[39msubplots(figsize\u001b[38;5;241m=\u001b[39m(\u001b[38;5;241m10\u001b[39m, \u001b[38;5;241m6\u001b[39m))\n",
      "File \u001b[1;32m~\\anaconda3\\lib\\site-packages\\pandas\\core\\frame.py:3505\u001b[0m, in \u001b[0;36mDataFrame.__getitem__\u001b[1;34m(self, key)\u001b[0m\n\u001b[0;32m   3503\u001b[0m \u001b[38;5;28;01mif\u001b[39;00m \u001b[38;5;28mself\u001b[39m\u001b[38;5;241m.\u001b[39mcolumns\u001b[38;5;241m.\u001b[39mnlevels \u001b[38;5;241m>\u001b[39m \u001b[38;5;241m1\u001b[39m:\n\u001b[0;32m   3504\u001b[0m     \u001b[38;5;28;01mreturn\u001b[39;00m \u001b[38;5;28mself\u001b[39m\u001b[38;5;241m.\u001b[39m_getitem_multilevel(key)\n\u001b[1;32m-> 3505\u001b[0m indexer \u001b[38;5;241m=\u001b[39m \u001b[38;5;28;43mself\u001b[39;49m\u001b[38;5;241;43m.\u001b[39;49m\u001b[43mcolumns\u001b[49m\u001b[38;5;241;43m.\u001b[39;49m\u001b[43mget_loc\u001b[49m\u001b[43m(\u001b[49m\u001b[43mkey\u001b[49m\u001b[43m)\u001b[49m\n\u001b[0;32m   3506\u001b[0m \u001b[38;5;28;01mif\u001b[39;00m is_integer(indexer):\n\u001b[0;32m   3507\u001b[0m     indexer \u001b[38;5;241m=\u001b[39m [indexer]\n",
      "File \u001b[1;32m~\\anaconda3\\lib\\site-packages\\pandas\\core\\indexes\\base.py:3623\u001b[0m, in \u001b[0;36mIndex.get_loc\u001b[1;34m(self, key, method, tolerance)\u001b[0m\n\u001b[0;32m   3621\u001b[0m     \u001b[38;5;28;01mreturn\u001b[39;00m \u001b[38;5;28mself\u001b[39m\u001b[38;5;241m.\u001b[39m_engine\u001b[38;5;241m.\u001b[39mget_loc(casted_key)\n\u001b[0;32m   3622\u001b[0m \u001b[38;5;28;01mexcept\u001b[39;00m \u001b[38;5;167;01mKeyError\u001b[39;00m \u001b[38;5;28;01mas\u001b[39;00m err:\n\u001b[1;32m-> 3623\u001b[0m     \u001b[38;5;28;01mraise\u001b[39;00m \u001b[38;5;167;01mKeyError\u001b[39;00m(key) \u001b[38;5;28;01mfrom\u001b[39;00m \u001b[38;5;21;01merr\u001b[39;00m\n\u001b[0;32m   3624\u001b[0m \u001b[38;5;28;01mexcept\u001b[39;00m \u001b[38;5;167;01mTypeError\u001b[39;00m:\n\u001b[0;32m   3625\u001b[0m     \u001b[38;5;66;03m# If we have a listlike key, _check_indexing_error will raise\u001b[39;00m\n\u001b[0;32m   3626\u001b[0m     \u001b[38;5;66;03m#  InvalidIndexError. Otherwise we fall through and re-raise\u001b[39;00m\n\u001b[0;32m   3627\u001b[0m     \u001b[38;5;66;03m#  the TypeError.\u001b[39;00m\n\u001b[0;32m   3628\u001b[0m     \u001b[38;5;28mself\u001b[39m\u001b[38;5;241m.\u001b[39m_check_indexing_error(key)\n",
      "\u001b[1;31mKeyError\u001b[0m: 'Author'"
     ]
    }
   ],
   "source": [
    "Jeff_Kinney = books[books[\"Author\"].isin([\"Jeff Kinney\"]) ]\n",
    "Jeff_Kinney = Jeff_Kinney.sort_values(by=\"Year\")\n",
    "\n",
    "fig, ax1 = plt.subplots(figsize=(10, 6))\n",
    "ax1.set_facecolor('dimgrey')\n",
    "ax2 = ax1.twinx()\n",
    "ax1.bar(Jeff_Kinney[\"Name\"],Jeff_Kinney[\"User Rating\"], color = \"darkorange\", label =\"User Rating\" )\n",
    "ax1.set_ylabel(\"User Rating\", fontsize =14)\n",
    "ax1.tick_params(axis='x', labelrotation = 90)\n",
    "\n",
    "ax2.plot(Jeff_Kinney[\"Name\"],Jeff_Kinney[\"Reviews\"],color = \"saddlebrown\",marker =\"o\",lw =2, label = \"Reviews\")\n",
    "ax2.set_ylabel(\"Reviews\", fontsize =13)\n",
    "\n",
    "plt.suptitle(\"Books by Jeff_Kinney \", fontsize =20,y =1.01)\n",
    "plt.title(\"Titles vs User Ratings and Reviews\", fontsize =14)\n",
    "fig.legend(loc=\"upper right\")\n",
    "fig.show()"
   ]
  },
  {
   "cell_type": "code",
   "execution_count": null,
   "metadata": {
    "id": "qVvUlCbo4cSu"
   },
   "outputs": [],
   "source": [
    "lowest_rated = books[books[\"User Rating\"]==books[\"User Rating\"].min()]\n",
    "Highest_rated = books[books[\"User Rating\"]==books[\"User Rating\"].max()]"
   ]
  },
  {
   "cell_type": "code",
   "execution_count": null,
   "metadata": {
    "id": "3ttmfLo94cSv",
    "outputId": "8ed3d71e-2370-4d6e-d15a-cf63b78232c6"
   },
   "outputs": [],
   "source": [
    "lowest_rated\n",
    "     "
   ]
  },
  {
   "cell_type": "markdown",
   "metadata": {
    "id": "_Q5Cd-Sb4cSv"
   },
   "source": [
    "The lowest rated book in the dataset is 'The Casual Vacancy' by J.K Rowling"
   ]
  },
  {
   "cell_type": "code",
   "execution_count": null,
   "metadata": {
    "id": "zY8uKXyG4cSv",
    "outputId": "adac7b2a-4c23-4e82-c118-7fa59a2b1c3a"
   },
   "outputs": [],
   "source": [
    " Highest_rated"
   ]
  },
  {
   "cell_type": "code",
   "execution_count": null,
   "metadata": {
    "id": "EeZvVI-q4cSv"
   },
   "outputs": [],
   "source": []
  }
 ],
 "metadata": {
  "colab": {
   "name": "Data Analysis Project.ipynb",
   "provenance": []
  },
  "kernelspec": {
   "display_name": "Python 3 (ipykernel)",
   "language": "python",
   "name": "python3"
  },
  "language_info": {
   "codemirror_mode": {
    "name": "ipython",
    "version": 3
   },
   "file_extension": ".py",
   "mimetype": "text/x-python",
   "name": "python",
   "nbconvert_exporter": "python",
   "pygments_lexer": "ipython3",
   "version": "3.9.12"
  }
 },
 "nbformat": 4,
 "nbformat_minor": 1
}
