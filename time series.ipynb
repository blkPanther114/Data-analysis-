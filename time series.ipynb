{
 "cells": [
  {
   "cell_type": "code",
   "execution_count": 13,
   "id": "4309ed6a",
   "metadata": {},
   "outputs": [
    {
     "data": {
      "image/png": "[encoded data removed]",
      "text/plain": [
       "<Figure size 432x288 with 1 Axes>"
      ]
     },
     "metadata": {
      "needs_background": "light"
     },
     "output_type": "display_data"
    }
   ],
   "source": [
    "import pandas as pd\n",
    "import matplotlib.pyplot as plt\n",
    "   \n",
    "Data = {'Year': [1990,1995,2000,2005,2010,2015,2020],\n",
    "        'Population': [57,58,59,60,63,65,68]\n",
    "       }\n",
    "  \n",
    "df = pd.DataFrame(Data,columns=['Year','Population'])\n",
    "plt.plot(df['Year'], df['Population'], color='slategrey', marker='o')\n",
    "plt.title('Population Vs Year', fontsize=14)\n",
    "plt.xlabel('Year', fontsize=14)\n",
    "plt.ylabel('Population', fontsize=14)\n",
    "plt.grid(color = 'lightgrey', linestyle = '--', linewidth = 0.7)\n",
    "plt.show()"
   ]
  },
  {
   "cell_type": "code",
   "execution_count": 14,
   "id": "1370658c",
   "metadata": {},
   "outputs": [
    {
     "data": {
      "text/plain": [
       "Timestamp('2015-07-04 00:00:00')"
      ]
     },
     "execution_count": 14,
     "metadata": {},
     "output_type": "execute_result"
    }
   ],
   "source": [
    "import pandas as pd\n",
    "date = pd.to_datetime(\"4th of July, 2015\")\n",
    "date"
   ]
  },
  {
   "cell_type": "code",
   "execution_count": 15,
   "id": "ccad2003",
   "metadata": {},
   "outputs": [
    {
     "data": {
      "text/plain": [
       "DatetimeIndex(['2015-07-04', '2015-07-05', '2015-07-06', '2015-07-07',\n",
       "               '2015-07-08', '2015-07-09', '2015-07-10', '2015-07-11',\n",
       "               '2015-07-12', '2015-07-13', '2015-07-14', '2015-07-15'],\n",
       "              dtype='datetime64[ns]', freq=None)"
      ]
     },
     "execution_count": 15,
     "metadata": {},
     "output_type": "execute_result"
    }
   ],
   "source": [
    "import numpy as np\n",
    "date + pd.to_timedelta(np.arange(12), 'D')"
   ]
  },
  {
   "cell_type": "code",
   "execution_count": 4,
   "id": "0ac35382",
   "metadata": {},
   "outputs": [
    {
     "name": "stdout",
     "output_type": "stream",
     "text": [
      "2022\n",
      "Tuesday\n"
     ]
    },
    {
     "data": {
      "text/plain": [
       "DatetimeIndex(['2022-06-14 11:37:14.447409', '2022-06-14 11:38:14.447409',\n",
       "               '2022-06-14 11:39:14.447409', '2022-06-14 11:40:14.447409',\n",
       "               '2022-06-14 11:41:14.447409', '2022-06-14 11:42:14.447409',\n",
       "               '2022-06-14 11:43:14.447409', '2022-06-14 11:44:14.447409',\n",
       "               '2022-06-14 11:45:14.447409', '2022-06-14 11:46:14.447409'],\n",
       "              dtype='datetime64[ns]', freq=None)"
      ]
     },
     "execution_count": 4,
     "metadata": {},
     "output_type": "execute_result"
    }
   ],
   "source": [
    "import pandas as pd\n",
    "import numpy as np\n",
    "import datetime\n",
    "\n",
    "x = datetime.datetime.now()\n",
    "\n",
    "print(x.year)\n",
    "print(x.strftime('%A'))\n",
    "x + pd.to_timedelta(np.arange(10),'min')"
   ]
  },
  {
   "cell_type": "code",
   "execution_count": 5,
   "id": "abf699f8",
   "metadata": {},
   "outputs": [
    {
     "data": {
      "text/plain": [
       "2014-07-04    0\n",
       "2014-08-04    1\n",
       "2015-07-04    2\n",
       "2015-08-04    3\n",
       "dtype: int64"
      ]
     },
     "execution_count": 5,
     "metadata": {},
     "output_type": "execute_result"
    }
   ],
   "source": [
    "index = pd.DatetimeIndex(['2014-07-04', '2014-08-04',\n",
    "                          '2015-07-04', '2015-08-04'])\n",
    "data = pd.Series([0, 1, 2, 3], index=index)\n",
    "data"
   ]
  },
  {
   "cell_type": "code",
   "execution_count": 6,
   "id": "b5376120",
   "metadata": {},
   "outputs": [
    {
     "data": {
      "text/plain": [
       "DatetimeIndex(['2015-07-03', '2015-07-04', '2015-07-05', '2015-07-06',\n",
       "               '2015-07-07', '2015-07-08', '2015-07-09', '2015-07-10'],\n",
       "              dtype='datetime64[ns]', freq='D')"
      ]
     },
     "execution_count": 6,
     "metadata": {},
     "output_type": "execute_result"
    }
   ],
   "source": [
    "#Refgular sequence\n",
    "pd.date_range('2015-07-03', '2015-07-10')\n",
    "pd.date_range('2015-07-03', periods=8)"
   ]
  },
  {
   "cell_type": "code",
   "execution_count": 7,
   "id": "3048f7e8",
   "metadata": {},
   "outputs": [
    {
     "data": {
      "text/plain": [
       "DatetimeIndex(['2015-07-03 00:00:00', '2015-07-03 01:00:00',\n",
       "               '2015-07-03 02:00:00', '2015-07-03 03:00:00',\n",
       "               '2015-07-03 04:00:00', '2015-07-03 05:00:00',\n",
       "               '2015-07-03 06:00:00', '2015-07-03 07:00:00'],\n",
       "              dtype='datetime64[ns]', freq='H')"
      ]
     },
     "execution_count": 7,
     "metadata": {},
     "output_type": "execute_result"
    }
   ],
   "source": [
    "pd.date_range('2015-07-03', periods=8, freq='H')"
   ]
  },
  {
   "cell_type": "code",
   "execution_count": 9,
   "id": "e6509514",
   "metadata": {},
   "outputs": [
    {
     "data": {
      "text/html": [
       "<div>\n",
       "<style scoped>\n",
       "    .dataframe tbody tr th:only-of-type {\n",
       "        vertical-align: middle;\n",
       "    }\n",
       "\n",
       "    .dataframe tbody tr th {\n",
       "        vertical-align: top;\n",
       "    }\n",
       "\n",
       "    .dataframe thead th {\n",
       "        text-align: right;\n",
       "    }\n",
       "</style>\n",
       "<table border=\"1\" class=\"dataframe\">\n",
       "  <thead>\n",
       "    <tr style=\"text-align: right;\">\n",
       "      <th></th>\n",
       "      <th>Date</th>\n",
       "      <th>Open</th>\n",
       "      <th>High</th>\n",
       "      <th>Low</th>\n",
       "      <th>Close</th>\n",
       "    </tr>\n",
       "  </thead>\n",
       "  <tbody>\n",
       "    <tr>\n",
       "      <th>0</th>\n",
       "      <td>May 01,2020</td>\n",
       "      <td>81.50</td>\n",
       "      <td>83.5</td>\n",
       "      <td>80.10</td>\n",
       "      <td>82.40</td>\n",
       "    </tr>\n",
       "    <tr>\n",
       "      <th>1</th>\n",
       "      <td>May 02,2020</td>\n",
       "      <td>85.20</td>\n",
       "      <td>87.4</td>\n",
       "      <td>85.40</td>\n",
       "      <td>86.30</td>\n",
       "    </tr>\n",
       "    <tr>\n",
       "      <th>2</th>\n",
       "      <td>May 03,2020</td>\n",
       "      <td>84.76</td>\n",
       "      <td>86.9</td>\n",
       "      <td>83.71</td>\n",
       "      <td>85.45</td>\n",
       "    </tr>\n",
       "    <tr>\n",
       "      <th>3</th>\n",
       "      <td>May 04,2020</td>\n",
       "      <td>83.30</td>\n",
       "      <td>85.3</td>\n",
       "      <td>82.60</td>\n",
       "      <td>83.80</td>\n",
       "    </tr>\n",
       "    <tr>\n",
       "      <th>4</th>\n",
       "      <td>May 05,2020</td>\n",
       "      <td>84.30</td>\n",
       "      <td>87.8</td>\n",
       "      <td>82.80</td>\n",
       "      <td>86.80</td>\n",
       "    </tr>\n",
       "    <tr>\n",
       "      <th>5</th>\n",
       "      <td>May 06,2020</td>\n",
       "      <td>83.90</td>\n",
       "      <td>84.1</td>\n",
       "      <td>82.40</td>\n",
       "      <td>82.90</td>\n",
       "    </tr>\n",
       "    <tr>\n",
       "      <th>6</th>\n",
       "      <td>May 07,2020</td>\n",
       "      <td>82.60</td>\n",
       "      <td>84.7</td>\n",
       "      <td>80.80</td>\n",
       "      <td>82.70</td>\n",
       "    </tr>\n",
       "    <tr>\n",
       "      <th>7</th>\n",
       "      <td>May 08,2020</td>\n",
       "      <td>86.40</td>\n",
       "      <td>88.3</td>\n",
       "      <td>85.90</td>\n",
       "      <td>87.80</td>\n",
       "    </tr>\n",
       "  </tbody>\n",
       "</table>\n",
       "</div>"
      ],
      "text/plain": [
       "          Date   Open  High    Low  Close\n",
       "0  May 01,2020  81.50  83.5  80.10  82.40\n",
       "1  May 02,2020  85.20  87.4  85.40  86.30\n",
       "2  May 03,2020  84.76  86.9  83.71  85.45\n",
       "3  May 04,2020  83.30  85.3  82.60  83.80\n",
       "4  May 05,2020  84.30  87.8  82.80  86.80\n",
       "5  May 06,2020  83.90  84.1  82.40  82.90\n",
       "6  May 07,2020  82.60  84.7  80.80  82.70\n",
       "7  May 08,2020  86.40  88.3  85.90  87.80"
      ]
     },
     "execution_count": 9,
     "metadata": {},
     "output_type": "execute_result"
    }
   ],
   "source": [
    "import pandas as pd\n",
    "import matplotlib.pyplot as plt\n",
    "   \n",
    "Data = {'Date': [\"May 01,2020\",\"May 02,2020\",\"May 03,2020\",\"May 04,2020\",\"May 05,2020\",\"May 06,2020\",\"May 07,2020\",\"May 08,2020\"],\n",
    "        'Open': [81.5,85.2,84.76,83.3,84.3,83.9,82.6,86.4],\n",
    "        'High': [83.5,87.4,86.90,85.3,87.8,84.1,84.7,88.3],\n",
    "        'Low':  [80.1,85.4,83.71,82.6,82.8,82.4,80.8,85.9],\n",
    "        'Close':[82.4,86.3,85.45,83.8,86.8,82.9,82.7,87.8]\n",
    "        \n",
    "       }\n",
    "  \n",
    "df = pd.DataFrame(Data,columns=['Date','Open','High','Low','Close'])\n",
    "df"
   ]
  },
  {
   "cell_type": "code",
   "execution_count": 10,
   "id": "7e965893",
   "metadata": {},
   "outputs": [
    {
     "data": {
      "text/html": [
       "<div>\n",
       "<style scoped>\n",
       "    .dataframe tbody tr th:only-of-type {\n",
       "        vertical-align: middle;\n",
       "    }\n",
       "\n",
       "    .dataframe tbody tr th {\n",
       "        vertical-align: top;\n",
       "    }\n",
       "\n",
       "    .dataframe thead th {\n",
       "        text-align: right;\n",
       "    }\n",
       "</style>\n",
       "<table border=\"1\" class=\"dataframe\">\n",
       "  <thead>\n",
       "    <tr style=\"text-align: right;\">\n",
       "      <th></th>\n",
       "      <th>Date</th>\n",
       "      <th>Open</th>\n",
       "      <th>High</th>\n",
       "      <th>Low</th>\n",
       "      <th>Close</th>\n",
       "      <th>Rolling Close Average</th>\n",
       "    </tr>\n",
       "  </thead>\n",
       "  <tbody>\n",
       "    <tr>\n",
       "      <th>0</th>\n",
       "      <td>May 01,2020</td>\n",
       "      <td>81.50</td>\n",
       "      <td>83.5</td>\n",
       "      <td>80.10</td>\n",
       "      <td>82.40</td>\n",
       "      <td>NaN</td>\n",
       "    </tr>\n",
       "    <tr>\n",
       "      <th>1</th>\n",
       "      <td>May 02,2020</td>\n",
       "      <td>85.20</td>\n",
       "      <td>87.4</td>\n",
       "      <td>85.40</td>\n",
       "      <td>86.30</td>\n",
       "      <td>84.350</td>\n",
       "    </tr>\n",
       "    <tr>\n",
       "      <th>2</th>\n",
       "      <td>May 03,2020</td>\n",
       "      <td>84.76</td>\n",
       "      <td>86.9</td>\n",
       "      <td>83.71</td>\n",
       "      <td>85.45</td>\n",
       "      <td>85.875</td>\n",
       "    </tr>\n",
       "    <tr>\n",
       "      <th>3</th>\n",
       "      <td>May 04,2020</td>\n",
       "      <td>83.30</td>\n",
       "      <td>85.3</td>\n",
       "      <td>82.60</td>\n",
       "      <td>83.80</td>\n",
       "      <td>84.625</td>\n",
       "    </tr>\n",
       "    <tr>\n",
       "      <th>4</th>\n",
       "      <td>May 05,2020</td>\n",
       "      <td>84.30</td>\n",
       "      <td>87.8</td>\n",
       "      <td>82.80</td>\n",
       "      <td>86.80</td>\n",
       "      <td>85.300</td>\n",
       "    </tr>\n",
       "    <tr>\n",
       "      <th>5</th>\n",
       "      <td>May 06,2020</td>\n",
       "      <td>83.90</td>\n",
       "      <td>84.1</td>\n",
       "      <td>82.40</td>\n",
       "      <td>82.90</td>\n",
       "      <td>84.850</td>\n",
       "    </tr>\n",
       "    <tr>\n",
       "      <th>6</th>\n",
       "      <td>May 07,2020</td>\n",
       "      <td>82.60</td>\n",
       "      <td>84.7</td>\n",
       "      <td>80.80</td>\n",
       "      <td>82.70</td>\n",
       "      <td>82.800</td>\n",
       "    </tr>\n",
       "    <tr>\n",
       "      <th>7</th>\n",
       "      <td>May 08,2020</td>\n",
       "      <td>86.40</td>\n",
       "      <td>88.3</td>\n",
       "      <td>85.90</td>\n",
       "      <td>87.80</td>\n",
       "      <td>85.250</td>\n",
       "    </tr>\n",
       "  </tbody>\n",
       "</table>\n",
       "</div>"
      ],
      "text/plain": [
       "          Date   Open  High    Low  Close  Rolling Close Average\n",
       "0  May 01,2020  81.50  83.5  80.10  82.40                    NaN\n",
       "1  May 02,2020  85.20  87.4  85.40  86.30                 84.350\n",
       "2  May 03,2020  84.76  86.9  83.71  85.45                 85.875\n",
       "3  May 04,2020  83.30  85.3  82.60  83.80                 84.625\n",
       "4  May 05,2020  84.30  87.8  82.80  86.80                 85.300\n",
       "5  May 06,2020  83.90  84.1  82.40  82.90                 84.850\n",
       "6  May 07,2020  82.60  84.7  80.80  82.70                 82.800\n",
       "7  May 08,2020  86.40  88.3  85.90  87.80                 85.250"
      ]
     },
     "execution_count": 10,
     "metadata": {},
     "output_type": "execute_result"
    }
   ],
   "source": [
    "df[\"Rolling Close Average\"] = df.Close.rolling(2).mean()\n",
    "df"
   ]
  },
  {
   "cell_type": "code",
   "execution_count": 11,
   "id": "62ac8827",
   "metadata": {},
   "outputs": [
    {
     "data": {
      "text/html": [
       "<div>\n",
       "<style scoped>\n",
       "    .dataframe tbody tr th:only-of-type {\n",
       "        vertical-align: middle;\n",
       "    }\n",
       "\n",
       "    .dataframe tbody tr th {\n",
       "        vertical-align: top;\n",
       "    }\n",
       "\n",
       "    .dataframe thead th {\n",
       "        text-align: right;\n",
       "    }\n",
       "</style>\n",
       "<table border=\"1\" class=\"dataframe\">\n",
       "  <thead>\n",
       "    <tr style=\"text-align: right;\">\n",
       "      <th></th>\n",
       "      <th>Date</th>\n",
       "      <th>Open</th>\n",
       "      <th>High</th>\n",
       "      <th>Low</th>\n",
       "      <th>Close</th>\n",
       "      <th>Rolling Close Average</th>\n",
       "      <th>Open (Standard deviation)</th>\n",
       "      <th>Rolling Standard deviation</th>\n",
       "    </tr>\n",
       "  </thead>\n",
       "  <tbody>\n",
       "    <tr>\n",
       "      <th>0</th>\n",
       "      <td>May 01,2020</td>\n",
       "      <td>81.50</td>\n",
       "      <td>83.5</td>\n",
       "      <td>80.10</td>\n",
       "      <td>82.40</td>\n",
       "      <td>NaN</td>\n",
       "      <td>1.538896</td>\n",
       "      <td>NaN</td>\n",
       "    </tr>\n",
       "    <tr>\n",
       "      <th>1</th>\n",
       "      <td>May 02,2020</td>\n",
       "      <td>85.20</td>\n",
       "      <td>87.4</td>\n",
       "      <td>85.40</td>\n",
       "      <td>86.30</td>\n",
       "      <td>84.350</td>\n",
       "      <td>1.538896</td>\n",
       "      <td>83.35</td>\n",
       "    </tr>\n",
       "    <tr>\n",
       "      <th>2</th>\n",
       "      <td>May 03,2020</td>\n",
       "      <td>84.76</td>\n",
       "      <td>86.9</td>\n",
       "      <td>83.71</td>\n",
       "      <td>85.45</td>\n",
       "      <td>85.875</td>\n",
       "      <td>1.538896</td>\n",
       "      <td>84.98</td>\n",
       "    </tr>\n",
       "    <tr>\n",
       "      <th>3</th>\n",
       "      <td>May 04,2020</td>\n",
       "      <td>83.30</td>\n",
       "      <td>85.3</td>\n",
       "      <td>82.60</td>\n",
       "      <td>83.80</td>\n",
       "      <td>84.625</td>\n",
       "      <td>1.538896</td>\n",
       "      <td>84.03</td>\n",
       "    </tr>\n",
       "    <tr>\n",
       "      <th>4</th>\n",
       "      <td>May 05,2020</td>\n",
       "      <td>84.30</td>\n",
       "      <td>87.8</td>\n",
       "      <td>82.80</td>\n",
       "      <td>86.80</td>\n",
       "      <td>85.300</td>\n",
       "      <td>1.538896</td>\n",
       "      <td>83.80</td>\n",
       "    </tr>\n",
       "    <tr>\n",
       "      <th>5</th>\n",
       "      <td>May 06,2020</td>\n",
       "      <td>83.90</td>\n",
       "      <td>84.1</td>\n",
       "      <td>82.40</td>\n",
       "      <td>82.90</td>\n",
       "      <td>84.850</td>\n",
       "      <td>1.538896</td>\n",
       "      <td>84.10</td>\n",
       "    </tr>\n",
       "    <tr>\n",
       "      <th>6</th>\n",
       "      <td>May 07,2020</td>\n",
       "      <td>82.60</td>\n",
       "      <td>84.7</td>\n",
       "      <td>80.80</td>\n",
       "      <td>82.70</td>\n",
       "      <td>82.800</td>\n",
       "      <td>1.538896</td>\n",
       "      <td>83.25</td>\n",
       "    </tr>\n",
       "    <tr>\n",
       "      <th>7</th>\n",
       "      <td>May 08,2020</td>\n",
       "      <td>86.40</td>\n",
       "      <td>88.3</td>\n",
       "      <td>85.90</td>\n",
       "      <td>87.80</td>\n",
       "      <td>85.250</td>\n",
       "      <td>1.538896</td>\n",
       "      <td>84.50</td>\n",
       "    </tr>\n",
       "  </tbody>\n",
       "</table>\n",
       "</div>"
      ],
      "text/plain": [
       "          Date   Open  High    Low  Close  Rolling Close Average  \\\n",
       "0  May 01,2020  81.50  83.5  80.10  82.40                    NaN   \n",
       "1  May 02,2020  85.20  87.4  85.40  86.30                 84.350   \n",
       "2  May 03,2020  84.76  86.9  83.71  85.45                 85.875   \n",
       "3  May 04,2020  83.30  85.3  82.60  83.80                 84.625   \n",
       "4  May 05,2020  84.30  87.8  82.80  86.80                 85.300   \n",
       "5  May 06,2020  83.90  84.1  82.40  82.90                 84.850   \n",
       "6  May 07,2020  82.60  84.7  80.80  82.70                 82.800   \n",
       "7  May 08,2020  86.40  88.3  85.90  87.80                 85.250   \n",
       "\n",
       "   Open (Standard deviation)  Rolling Standard deviation  \n",
       "0                   1.538896                         NaN  \n",
       "1                   1.538896                       83.35  \n",
       "2                   1.538896                       84.98  \n",
       "3                   1.538896                       84.03  \n",
       "4                   1.538896                       83.80  \n",
       "5                   1.538896                       84.10  \n",
       "6                   1.538896                       83.25  \n",
       "7                   1.538896                       84.50  "
      ]
     },
     "execution_count": 11,
     "metadata": {},
     "output_type": "execute_result"
    }
   ],
   "source": [
    "df[\"Open (Standard deviation)\"] = df.Open.std()\n",
    "df[\"Rolling Standard deviation\"] =  df['Open'].rolling(2).mean()\n",
    "df"
   ]
  },
  {
   "cell_type": "code",
   "execution_count": 12,
   "id": "8485bf05",
   "metadata": {},
   "outputs": [
    {
     "data": {
      "text/html": [
       "<div>\n",
       "<style scoped>\n",
       "    .dataframe tbody tr th:only-of-type {\n",
       "        vertical-align: middle;\n",
       "    }\n",
       "\n",
       "    .dataframe tbody tr th {\n",
       "        vertical-align: top;\n",
       "    }\n",
       "\n",
       "    .dataframe thead th {\n",
       "        text-align: right;\n",
       "    }\n",
       "</style>\n",
       "<table border=\"1\" class=\"dataframe\">\n",
       "  <thead>\n",
       "    <tr style=\"text-align: right;\">\n",
       "      <th></th>\n",
       "      <th>Date</th>\n",
       "      <th>Close</th>\n",
       "      <th>Rolling Close Sum</th>\n",
       "    </tr>\n",
       "  </thead>\n",
       "  <tbody>\n",
       "    <tr>\n",
       "      <th>0</th>\n",
       "      <td>May 01,2020</td>\n",
       "      <td>82.40</td>\n",
       "      <td>NaN</td>\n",
       "    </tr>\n",
       "    <tr>\n",
       "      <th>1</th>\n",
       "      <td>May 02,2020</td>\n",
       "      <td>86.30</td>\n",
       "      <td>168.70</td>\n",
       "    </tr>\n",
       "    <tr>\n",
       "      <th>2</th>\n",
       "      <td>May 03,2020</td>\n",
       "      <td>85.45</td>\n",
       "      <td>171.75</td>\n",
       "    </tr>\n",
       "    <tr>\n",
       "      <th>3</th>\n",
       "      <td>May 04,2020</td>\n",
       "      <td>83.80</td>\n",
       "      <td>169.25</td>\n",
       "    </tr>\n",
       "    <tr>\n",
       "      <th>4</th>\n",
       "      <td>May 05,2020</td>\n",
       "      <td>86.80</td>\n",
       "      <td>170.60</td>\n",
       "    </tr>\n",
       "    <tr>\n",
       "      <th>5</th>\n",
       "      <td>May 06,2020</td>\n",
       "      <td>82.90</td>\n",
       "      <td>169.70</td>\n",
       "    </tr>\n",
       "    <tr>\n",
       "      <th>6</th>\n",
       "      <td>May 07,2020</td>\n",
       "      <td>82.70</td>\n",
       "      <td>165.60</td>\n",
       "    </tr>\n",
       "    <tr>\n",
       "      <th>7</th>\n",
       "      <td>May 08,2020</td>\n",
       "      <td>87.80</td>\n",
       "      <td>170.50</td>\n",
       "    </tr>\n",
       "  </tbody>\n",
       "</table>\n",
       "</div>"
      ],
      "text/plain": [
       "          Date  Close  Rolling Close Sum\n",
       "0  May 01,2020  82.40                NaN\n",
       "1  May 02,2020  86.30             168.70\n",
       "2  May 03,2020  85.45             171.75\n",
       "3  May 04,2020  83.80             169.25\n",
       "4  May 05,2020  86.80             170.60\n",
       "5  May 06,2020  82.90             169.70\n",
       "6  May 07,2020  82.70             165.60\n",
       "7  May 08,2020  87.80             170.50"
      ]
     },
     "execution_count": 12,
     "metadata": {},
     "output_type": "execute_result"
    }
   ],
   "source": [
    "df[\"Rolling Close Sum\"] = df[\"Close\"].rolling(2).sum()\n",
    "df[[\"Date\",\"Close\",\"Rolling Close Sum\"]]\n"
   ]
  },
  {
   "cell_type": "code",
   "execution_count": 9,
   "id": "a873d769",
   "metadata": {},
   "outputs": [
    {
     "ename": "NameError",
     "evalue": "name 'Min' is not defined",
     "output_type": "error",
     "traceback": [
      "\u001b[1;31m---------------------------------------------------------------------------\u001b[0m",
      "\u001b[1;31mNameError\u001b[0m                                 Traceback (most recent call last)",
      "Input \u001b[1;32mIn [9]\u001b[0m, in \u001b[0;36m<cell line: 5>\u001b[1;34m()\u001b[0m\n\u001b[0;32m      3\u001b[0m \u001b[38;5;66;03m#arr = arr - 5\u001b[39;00m\n\u001b[0;32m      4\u001b[0m arr\u001b[38;5;241m.\u001b[39mmax()\n\u001b[1;32m----> 5\u001b[0m \u001b[43mMin\u001b[49m\u001b[38;5;241m.\u001b[39marr()\n",
      "\u001b[1;31mNameError\u001b[0m: name 'Min' is not defined"
     ]
    }
   ],
   "source": [
    "import numpy as np\n",
    "arr = np.array([10,13,15])\n",
    "#arr = arr - 5\n",
    "arr.max()\n",
    "Min.arr()\n",
    "#print (arr[2])"
   ]
  },
  {
   "cell_type": "code",
   "execution_count": 14,
   "id": "00c46210",
   "metadata": {},
   "outputs": [
    {
     "name": "stdout",
     "output_type": "stream",
     "text": [
      "3\n"
     ]
    }
   ],
   "source": [
    "import numpy as np\n",
    "import pandas as pd\n",
    "\n",
    "Arr = pd.Series(np.random.randn(7))\n",
    "print (arr.size)"
   ]
  },
  {
   "cell_type": "code",
   "execution_count": null,
   "id": "cb7418d8",
   "metadata": {},
   "outputs": [],
   "source": []
  }
 ],
 "metadata": {
  "kernelspec": {
   "display_name": "Python 3 (ipykernel)",
   "language": "python",
   "name": "python3"
  },
  "language_info": {
   "codemirror_mode": {
    "name": "ipython",
    "version": 3
   },
   "file_extension": ".py",
   "mimetype": "text/x-python",
   "name": "python",
   "nbconvert_exporter": "python",
   "pygments_lexer": "ipython3",
   "version": "3.9.12"
  }
 },
 "nbformat": 4,
 "nbformat_minor": 5
}
